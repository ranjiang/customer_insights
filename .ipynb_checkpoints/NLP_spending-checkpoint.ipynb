{
 "cells": [
  {
   "cell_type": "markdown",
   "id": "cbf94273-120f-4e22-93d8-a11aab25593a",
   "metadata": {},
   "source": [
    "<h1>Social Listening NLP analysis for Chime </h1>\n",
    "For Spending"
   ]
  },
  {
   "cell_type": "markdown",
   "id": "7cb0ff1f-1055-40c5-a819-4d8710389053",
   "metadata": {},
   "source": [
    "<h2> Data Collection </h2>"
   ]
  },
  {
   "cell_type": "markdown",
   "id": "8c6b7407-6b8a-4e48-9f8c-b71c50dd4a90",
   "metadata": {},
   "source": [
    "<h3> Source 1: App store reviews </h3>"
   ]
  },
  {
   "cell_type": "code",
   "execution_count": 13,
   "id": "d86a6d66-c72b-4c45-9720-90519cb83a89",
   "metadata": {},
   "outputs": [
    {
     "name": "stdout",
     "output_type": "stream",
     "text": [
      "1000                                reviewId                     userName  \\\n",
      "0  f5871ed0-72ec-485e-bcd0-53fc76d3f9d9              Rosalyn Johnson   \n",
      "1  1f751eef-96be-4a42-ba7f-9cae96449f9b  Dr. Mary Jane Davis-Peralta   \n",
      "2  1ae90a69-d188-4aae-9afa-8ff70931c990              Brett Whittaker   \n",
      "3  a09e7a8e-170d-4e2c-9a30-c7dbe754cede              Stevie Roseboro   \n",
      "4  6e6bab9b-55fa-4712-a08c-87fa6d1ad801                      Chris D   \n",
      "\n",
      "                                           userImage  \\\n",
      "0  https://play-lh.googleusercontent.com/a-/ALV-U...   \n",
      "1  https://play-lh.googleusercontent.com/a-/ALV-U...   \n",
      "2  https://play-lh.googleusercontent.com/a/ACg8oc...   \n",
      "3  https://play-lh.googleusercontent.com/a-/ALV-U...   \n",
      "4  https://play-lh.googleusercontent.com/a-/ALV-U...   \n",
      "\n",
      "                                             content  score  thumbsUpCount  \\\n",
      "0  I appreciate this app very much. It is extreme...      5              0   \n",
      "1  The app doesn't always work. It gets stuck or ...      3              0   \n",
      "2  Can't say enough about Chime...tbey know the w...      5              0   \n",
      "3  the chime app is easy to navigate and helpful ...      4              0   \n",
      "4  just everything i expected chime to be. thanks...      5              0   \n",
      "\n",
      "  reviewCreatedVersion                  at  \\\n",
      "0              5.268.0 2025-04-06 21:49:36   \n",
      "1              5.268.0 2025-04-06 21:32:20   \n",
      "2              5.262.0 2025-04-06 20:59:19   \n",
      "3              5.267.0 2025-04-06 20:57:32   \n",
      "4              5.268.0 2025-04-06 20:46:11   \n",
      "\n",
      "                                        replyContent           repliedAt  \\\n",
      "0                                               None                 NaT   \n",
      "1  Hi Dr. Mary Jane! We appreciate the review and... 2025-04-06 21:47:09   \n",
      "2                                               None                 NaT   \n",
      "3                                               None                 NaT   \n",
      "4                                               None                 NaT   \n",
      "\n",
      "  appVersion  \n",
      "0    5.268.0  \n",
      "1    5.268.0  \n",
      "2    5.262.0  \n",
      "3    5.267.0  \n",
      "4    5.268.0  \n"
     ]
    }
   ],
   "source": [
    "# For Google Play using `google-play-scraper`\n",
    "#!pip install google-play-scraper\n",
    "\n",
    "from google_play_scraper import Sort, reviews\n",
    "\n",
    "result, _ = reviews(\n",
    "    'com.onedebit.chime',  # Chime app\n",
    "    lang='en',\n",
    "    country='us',\n",
    "    sort=Sort.NEWEST,\n",
    "    count=1000\n",
    ")\n",
    "\n",
    "# save to csv\n",
    "import pandas as pd\n",
    "\n",
    "df = pd.DataFrame(result)\n",
    "print (len(df), df.head(5))\n",
    "df[['userName', 'score', 'content', 'at']].to_csv('chime_app_reviews.csv', index=False)"
   ]
  },
  {
   "cell_type": "markdown",
   "id": "6d22e5ac-0606-4d8d-b606-d24f862f2688",
   "metadata": {},
   "source": [
    "Apple store reviews\n",
    "Run the code in Google Colab and saved as chime_ios_reviews.csv"
   ]
  },
  {
   "cell_type": "markdown",
   "id": "29b7d03e-cd38-4379-b9df-a0c9e32bdf64",
   "metadata": {},
   "source": [
    "<h3> Source 2: Website content scraping </h3>"
   ]
  },
  {
   "cell_type": "code",
   "execution_count": 32,
   "id": "fb3029b6-1688-4d5b-9e88-7dd6fc308372",
   "metadata": {},
   "outputs": [
    {
     "ename": "ModuleNotFoundError",
     "evalue": "No module named 'urllib3.packages.six.moves'",
     "output_type": "error",
     "traceback": [
      "\u001b[0;31m---------------------------------------------------------------------------\u001b[0m",
      "\u001b[0;31mModuleNotFoundError\u001b[0m                       Traceback (most recent call last)",
      "Cell \u001b[0;32mIn[32], line 3\u001b[0m\n\u001b[1;32m      1\u001b[0m \u001b[38;5;66;03m#Get Reddit Comments on Chime products from r/chimebank\u001b[39;00m\n\u001b[0;32m----> 3\u001b[0m \u001b[38;5;28;01mimport\u001b[39;00m \u001b[38;5;21;01mrequests\u001b[39;00m\n\u001b[1;32m      4\u001b[0m \u001b[38;5;28;01mimport\u001b[39;00m \u001b[38;5;21;01mpandas\u001b[39;00m \u001b[38;5;28;01mas\u001b[39;00m \u001b[38;5;21;01mpd\u001b[39;00m\n\u001b[1;32m      6\u001b[0m queries \u001b[38;5;241m=\u001b[39m [\n\u001b[1;32m      7\u001b[0m     \u001b[38;5;124m\"\u001b[39m\u001b[38;5;124mcredit builder\u001b[39m\u001b[38;5;124m\"\u001b[39m,\n\u001b[1;32m      8\u001b[0m     \u001b[38;5;124m\"\u001b[39m\u001b[38;5;124mSpotMe\u001b[39m\u001b[38;5;124m\"\u001b[39m,\n\u001b[0;32m   (...)\u001b[0m\n\u001b[1;32m     13\u001b[0m     \u001b[38;5;124m\"\u001b[39m\u001b[38;5;124malert\u001b[39m\u001b[38;5;124m\"\u001b[39m\n\u001b[1;32m     14\u001b[0m ]\n",
      "File \u001b[0;32m/opt/anaconda3/lib/python3.12/site-packages/requests/__init__.py:43\u001b[0m\n\u001b[1;32m      1\u001b[0m \u001b[38;5;66;03m# -*- coding: utf-8 -*-\u001b[39;00m\n\u001b[1;32m      2\u001b[0m \n\u001b[1;32m      3\u001b[0m \u001b[38;5;66;03m#   __\u001b[39;00m\n\u001b[1;32m      4\u001b[0m \u001b[38;5;66;03m#  /__)  _  _     _   _ _/   _\u001b[39;00m\n\u001b[1;32m      5\u001b[0m \u001b[38;5;66;03m# / (   (- (/ (/ (- _)  /  _)\u001b[39;00m\n\u001b[1;32m      6\u001b[0m \u001b[38;5;66;03m#          /\u001b[39;00m\n\u001b[1;32m      8\u001b[0m \u001b[38;5;124;03m\"\"\"\u001b[39;00m\n\u001b[1;32m      9\u001b[0m \u001b[38;5;124;03mRequests HTTP Library\u001b[39;00m\n\u001b[1;32m     10\u001b[0m \u001b[38;5;124;03m~~~~~~~~~~~~~~~~~~~~~\u001b[39;00m\n\u001b[0;32m   (...)\u001b[0m\n\u001b[1;32m     40\u001b[0m \u001b[38;5;124;03m:license: Apache 2.0, see LICENSE for more details.\u001b[39;00m\n\u001b[1;32m     41\u001b[0m \u001b[38;5;124;03m\"\"\"\u001b[39;00m\n\u001b[0;32m---> 43\u001b[0m \u001b[38;5;28;01mimport\u001b[39;00m \u001b[38;5;21;01murllib3\u001b[39;00m\n\u001b[1;32m     44\u001b[0m \u001b[38;5;28;01mimport\u001b[39;00m \u001b[38;5;21;01mchardet\u001b[39;00m\n\u001b[1;32m     45\u001b[0m \u001b[38;5;28;01mimport\u001b[39;00m \u001b[38;5;21;01mwarnings\u001b[39;00m\n",
      "File \u001b[0;32m/opt/anaconda3/lib/python3.12/site-packages/urllib3/__init__.py:11\u001b[0m\n\u001b[1;32m      9\u001b[0m \u001b[38;5;28;01mfrom\u001b[39;00m \u001b[38;5;21;01m.\u001b[39;00m \u001b[38;5;28;01mimport\u001b[39;00m exceptions\n\u001b[1;32m     10\u001b[0m \u001b[38;5;28;01mfrom\u001b[39;00m \u001b[38;5;21;01m.\u001b[39;00m\u001b[38;5;21;01mfilepost\u001b[39;00m \u001b[38;5;28;01mimport\u001b[39;00m encode_multipart_formdata\n\u001b[0;32m---> 11\u001b[0m \u001b[38;5;28;01mfrom\u001b[39;00m \u001b[38;5;21;01m.\u001b[39;00m\u001b[38;5;21;01mpoolmanager\u001b[39;00m \u001b[38;5;28;01mimport\u001b[39;00m PoolManager, ProxyManager, proxy_from_url\n\u001b[1;32m     12\u001b[0m \u001b[38;5;28;01mfrom\u001b[39;00m \u001b[38;5;21;01m.\u001b[39;00m\u001b[38;5;21;01mresponse\u001b[39;00m \u001b[38;5;28;01mimport\u001b[39;00m HTTPResponse\n\u001b[1;32m     13\u001b[0m \u001b[38;5;28;01mfrom\u001b[39;00m \u001b[38;5;21;01m.\u001b[39;00m\u001b[38;5;21;01mutil\u001b[39;00m\u001b[38;5;21;01m.\u001b[39;00m\u001b[38;5;21;01mrequest\u001b[39;00m \u001b[38;5;28;01mimport\u001b[39;00m make_headers\n",
      "File \u001b[0;32m/opt/anaconda3/lib/python3.12/site-packages/urllib3/exceptions.py:3\u001b[0m\n\u001b[1;32m      0\u001b[0m <Error retrieving source code with stack_data see ipython/ipython#13598>\n",
      "\u001b[0;31mModuleNotFoundError\u001b[0m: No module named 'urllib3.packages.six.moves'"
     ]
    }
   ],
   "source": [
    "#Get Reddit Comments on Chime products from r/chimebank\n",
    "\n",
    "import requests\n",
    "import pandas as pd\n",
    "\n",
    "queries = [\n",
    "    \"credit builder\",\n",
    "    \"SpotMe\",\n",
    "    \"cashback\",\n",
    "    \"chime card\",\n",
    "    \"direct deposit\",\n",
    "    \"auto pay\",\n",
    "    \"alert\"\n",
    "]\n",
    "\n",
    "\n",
    "def get_pushshift_comments(query, subreddit=\"chimebank\", size=100):\n",
    "    url = f\"https://api.pushshift.io/reddit/comment/search\"\n",
    "    params = {\n",
    "        \"q\": query,\n",
    "        \"subreddit\": subreddit,\n",
    "        \"size\": size,\n",
    "        \"sort\": \"desc\",\n",
    "        \"sort_type\": \"created_utc\"\n",
    "    }\n",
    "    response = requests.get(url, params=params)\n",
    "    data = response.json()[\"data\"]\n",
    "    return data\n",
    "\n",
    "# Fetch and store\n",
    "data = get_pushshift_comments(query=\"credit builder\", size=200)\n",
    "comments = [d[\"body\"] for d in data]\n",
    "\n",
    "# Save as DataFrame\n",
    "df_reddit = pd.DataFrame(comments, columns=[\"text\"])\n",
    "df_reddit[\"source\"] = \"reddit\"\n",
    "df_reddit[\"topic\"] = \"credit builder\"\n",
    "df_reddit.to_csv(\"chime_reddit_credit_builder.csv\", index=False)\n",
    "\n",
    "# Preview\n",
    "df_reddit.head()\n"
   ]
  },
  {
   "cell_type": "code",
   "execution_count": null,
   "id": "2cb53b49-c355-44ec-acfe-ac78fc88729f",
   "metadata": {},
   "outputs": [],
   "source": []
  }
 ],
 "metadata": {
  "kernelspec": {
   "display_name": "Python [conda env:base] *",
   "language": "python",
   "name": "conda-base-py"
  },
  "language_info": {
   "codemirror_mode": {
    "name": "ipython",
    "version": 3
   },
   "file_extension": ".py",
   "mimetype": "text/x-python",
   "name": "python",
   "nbconvert_exporter": "python",
   "pygments_lexer": "ipython3",
   "version": "3.12.7"
  }
 },
 "nbformat": 4,
 "nbformat_minor": 5
}
